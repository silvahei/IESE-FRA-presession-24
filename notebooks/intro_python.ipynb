{
  "cells": [
    {
      "cell_type": "markdown",
      "metadata": {
        "id": "q2eRjQCONuDm"
      },
      "source": [
        "# Introduction to Python\n",
        "\n",
        "\n",
        "[![Open In Colab](https://colab.research.google.com/assets/colab-badge.svg)](https://colab.research.google.com/github/unstructured-data/IESE-FRA-presession-24/blob/main/notebooks/intro_python.ipynb)\n",
        "\n",
        "\n",
        "This is the complete version of the notebook that gets generated through the video. If you want to see the empty version of the notebook that I use as the starting point of the video go [here](./empty_notebooks/intro_python.ipynb).\n"
      ]
    },
    {
      "cell_type": "markdown",
      "metadata": {
        "id": "sjz99kjZAdoA"
      },
      "source": [
        "## Why Python?\n",
        "\n",
        "- Great implementations of machine learning methods\n",
        "  - [scikit-learn](https://scikit-learn.org/stable/): logistic regression, decision trees, clustering algorithms, and much more.\n",
        "  - [PyTorch](https://pytorch.org/), [Keras](https://keras.io), [JAX](https://jax.readthedocs.io/en/latest/notebooks/quickstart.html): building blocks for neural networks\n",
        "  - [HuggingFace](https://huggingface.co/): High-level abstractions to work with modern language models and computer vision models\n",
        "\n",
        "- Versatility\n",
        "- Support\n",
        "  - Large community of active users\n",
        "  - Modern generative language models can create useful fragments of code"
      ]
    },
    {
      "cell_type": "markdown",
      "metadata": {
        "id": "EtUEl1gh3KGn"
      },
      "source": [
        "## Variables and data types\n",
        "\n",
        "- Variables are created using the = sign\n",
        "- Basic data types in Python:\n",
        "  - Strings: ```\"Hi!\"```\n",
        "  - Integers: ```2```\n",
        "  - Floats: ```4.4```\n",
        "  - Booleans: ```True```"
      ]
    },
    {
      "cell_type": "code",
      "execution_count": 1,
      "metadata": {
        "id": "oU4Ia1z5NnNV"
      },
      "outputs": [],
      "source": [
        "# defining variables in Python and exploring different data types\n",
        "my_variable = 2"
      ]
    },
    {
      "cell_type": "code",
      "source": [
        "# what is my variable\n",
        "my_variable"
      ],
      "metadata": {
        "collapsed": true,
        "id": "Rqom4cB-ohnE",
        "outputId": "ba20d752-aed7-4aa7-bdc5-1f12a87f6c3d",
        "colab": {
          "base_uri": "https://localhost:8080/"
        }
      },
      "execution_count": 2,
      "outputs": [
        {
          "output_type": "execute_result",
          "data": {
            "text/plain": [
              "2"
            ]
          },
          "metadata": {},
          "execution_count": 2
        }
      ]
    },
    {
      "cell_type": "code",
      "execution_count": 3,
      "metadata": {
        "id": "qNlgun-rF_S2"
      },
      "outputs": [],
      "source": [
        "my_string = \"Hi everyone!\"\n",
        "my_float = 2.4\n",
        "my_boolean = True"
      ]
    },
    {
      "cell_type": "code",
      "execution_count": null,
      "metadata": {
        "colab": {
          "base_uri": "https://localhost:8080/"
        },
        "id": "Tm6HaKJnJBYb",
        "outputId": "181aec51-f708-41a7-9898-a8187ab17dae"
      },
      "outputs": [
        {
          "data": {
            "text/plain": [
              "4"
            ]
          },
          "execution_count": 14,
          "metadata": {},
          "output_type": "execute_result"
        }
      ],
      "source": [
        "# operations with numbers\n",
        "2 + 2"
      ]
    },
    {
      "cell_type": "code",
      "execution_count": null,
      "metadata": {
        "colab": {
          "base_uri": "https://localhost:8080/"
        },
        "id": "FJ19Re0IJZPc",
        "outputId": "bfac79d6-f86a-4b85-cf1f-224e4d587923"
      },
      "outputs": [
        {
          "data": {
            "text/plain": [
              "8"
            ]
          },
          "execution_count": 15,
          "metadata": {},
          "output_type": "execute_result"
        }
      ],
      "source": [
        "2*4"
      ]
    },
    {
      "cell_type": "code",
      "execution_count": null,
      "metadata": {
        "colab": {
          "base_uri": "https://localhost:8080/"
        },
        "id": "gFKtRnJTJbCM",
        "outputId": "da2e1751-e61b-4243-9ce8-bda3c7398906"
      },
      "outputs": [
        {
          "data": {
            "text/plain": [
              "1.0"
            ]
          },
          "execution_count": 16,
          "metadata": {},
          "output_type": "execute_result"
        }
      ],
      "source": [
        "2/2"
      ]
    },
    {
      "cell_type": "code",
      "execution_count": null,
      "metadata": {
        "colab": {
          "base_uri": "https://localhost:8080/"
        },
        "id": "I_-RDt7NJchu",
        "outputId": "2b29d45d-84a6-4560-cb68-bc4d07629817"
      },
      "outputs": [
        {
          "data": {
            "text/plain": [
              "256"
            ]
          },
          "execution_count": 17,
          "metadata": {},
          "output_type": "execute_result"
        }
      ],
      "source": [
        "2**8"
      ]
    },
    {
      "cell_type": "code",
      "execution_count": null,
      "metadata": {
        "id": "mlMkfJp2JgKO"
      },
      "outputs": [],
      "source": [
        "my_math_operation = (2+2) * 8"
      ]
    },
    {
      "cell_type": "code",
      "execution_count": null,
      "metadata": {
        "colab": {
          "base_uri": "https://localhost:8080/"
        },
        "id": "C-BqwY7YJmo-",
        "outputId": "d6d274a5-ecb2-46c2-c235-4bc7c80ab45b"
      },
      "outputs": [
        {
          "data": {
            "text/plain": [
              "32"
            ]
          },
          "execution_count": 19,
          "metadata": {},
          "output_type": "execute_result"
        }
      ],
      "source": [
        "my_math_operation"
      ]
    },
    {
      "cell_type": "code",
      "execution_count": null,
      "metadata": {
        "colab": {
          "base_uri": "https://localhost:8080/",
          "height": 36
        },
        "id": "VT7dDXR0JC36",
        "outputId": "b6ab52aa-4d75-4d0b-b55b-7576f457945e"
      },
      "outputs": [
        {
          "data": {
            "application/vnd.google.colaboratory.intrinsic+json": {
              "type": "string"
            },
            "text/plain": [
              "'Hi everyone!'"
            ]
          },
          "execution_count": 20,
          "metadata": {},
          "output_type": "execute_result"
        }
      ],
      "source": [
        "# operations with strings\n",
        "\"Hi\" + \" \" + \"everyone\" + \"!\""
      ]
    },
    {
      "cell_type": "code",
      "execution_count": null,
      "metadata": {
        "colab": {
          "base_uri": "https://localhost:8080/",
          "height": 165
        },
        "id": "O4W5AwjJKMMs",
        "outputId": "8254f256-3f12-4145-98ef-2307659a9577"
      },
      "outputs": [
        {
          "ename": "TypeError",
          "evalue": "ignored",
          "output_type": "error",
          "traceback": [
            "\u001b[0;31m---------------------------------------------------------------------------\u001b[0m",
            "\u001b[0;31mTypeError\u001b[0m                                 Traceback (most recent call last)",
            "\u001b[0;32m<ipython-input-21-4ba9fa45a986>\u001b[0m in \u001b[0;36m<cell line: 1>\u001b[0;34m()\u001b[0m\n\u001b[0;32m----> 1\u001b[0;31m \u001b[0;34m\"Hi\"\u001b[0m\u001b[0;34m/\u001b[0m\u001b[0;34m\"everyone\"\u001b[0m\u001b[0;34m\u001b[0m\u001b[0;34m\u001b[0m\u001b[0m\n\u001b[0m",
            "\u001b[0;31mTypeError\u001b[0m: unsupported operand type(s) for /: 'str' and 'str'"
          ]
        }
      ],
      "source": [
        "\"Hi\"/\"everyone\""
      ]
    },
    {
      "cell_type": "code",
      "execution_count": null,
      "metadata": {
        "colab": {
          "base_uri": "https://localhost:8080/"
        },
        "id": "fJAGpUbBKyZR",
        "outputId": "a80e21cf-47e9-45ab-e349-e39c8ab3c73f"
      },
      "outputs": [
        {
          "data": {
            "text/plain": [
              "1"
            ]
          },
          "execution_count": 26,
          "metadata": {},
          "output_type": "execute_result"
        }
      ],
      "source": [
        "False + False + True"
      ]
    },
    {
      "cell_type": "code",
      "execution_count": null,
      "metadata": {
        "colab": {
          "base_uri": "https://localhost:8080/"
        },
        "id": "XZQygRLpK1wB",
        "outputId": "ff99ee7b-c888-4050-9dc4-81a3cc331241"
      },
      "outputs": [
        {
          "data": {
            "text/plain": [
              "0"
            ]
          },
          "execution_count": 27,
          "metadata": {},
          "output_type": "execute_result"
        }
      ],
      "source": [
        "True*False"
      ]
    },
    {
      "cell_type": "markdown",
      "metadata": {
        "id": "qcIheVep3KGr"
      },
      "source": [
        "## Lists\n",
        "\n",
        "- Basic object in Python to store multiple values together\n",
        "- Represented by square brackets ```[ ]```\n"
      ]
    },
    {
      "cell_type": "code",
      "execution_count": 4,
      "metadata": {
        "id": "_JVzv-eE3eG2"
      },
      "outputs": [],
      "source": [
        "# create an empty list\n",
        "empty_list = []"
      ]
    },
    {
      "cell_type": "code",
      "execution_count": 5,
      "metadata": {
        "colab": {
          "base_uri": "https://localhost:8080/"
        },
        "id": "tQ8CHt-9L1Fi",
        "outputId": "0411c354-3e31-47ee-d2c4-2d2ad66859f1"
      },
      "outputs": [
        {
          "output_type": "execute_result",
          "data": {
            "text/plain": [
              "[]"
            ]
          },
          "metadata": {},
          "execution_count": 5
        }
      ],
      "source": [
        "empty_list"
      ]
    },
    {
      "cell_type": "code",
      "execution_count": 6,
      "metadata": {
        "id": "SaHZ277B3KGr"
      },
      "outputs": [],
      "source": [
        "# create lists\n",
        "integer_list = [2,3,4,5,6]"
      ]
    },
    {
      "cell_type": "code",
      "execution_count": null,
      "metadata": {
        "colab": {
          "base_uri": "https://localhost:8080/"
        },
        "id": "TT64yYaLL_R1",
        "outputId": "3bb1ecad-a070-437b-eb1f-981b4713e7dd"
      },
      "outputs": [
        {
          "data": {
            "text/plain": [
              "[2, 3, 4, 5, 6]"
            ]
          },
          "execution_count": 31,
          "metadata": {},
          "output_type": "execute_result"
        }
      ],
      "source": [
        "integer_list"
      ]
    },
    {
      "cell_type": "code",
      "execution_count": 7,
      "metadata": {
        "id": "z104IvaOMDfz"
      },
      "outputs": [],
      "source": [
        "string_list = [\"john\", \"pedro\", \"juan\", \"nicolas\"]"
      ]
    },
    {
      "cell_type": "code",
      "execution_count": null,
      "metadata": {
        "colab": {
          "base_uri": "https://localhost:8080/"
        },
        "id": "fykqhzymMLl8",
        "outputId": "1d7509fb-aff1-4b68-e079-a4d4b237066c"
      },
      "outputs": [
        {
          "data": {
            "text/plain": [
              "['john', 'pedro', 'juan', 'nicolas']"
            ]
          },
          "execution_count": 33,
          "metadata": {},
          "output_type": "execute_result"
        }
      ],
      "source": [
        "string_list"
      ]
    },
    {
      "cell_type": "code",
      "execution_count": 10,
      "metadata": {
        "id": "oSxhMArZMNKk"
      },
      "outputs": [],
      "source": [
        "mixed_list = [2, 4.0, True, \"Hi\"]"
      ]
    },
    {
      "cell_type": "code",
      "execution_count": 11,
      "metadata": {
        "colab": {
          "base_uri": "https://localhost:8080/",
          "height": 35
        },
        "id": "rS-xtrPI3KGs",
        "outputId": "538e6d0b-fa1d-45d0-88c3-6cc93a56099d"
      },
      "outputs": [
        {
          "output_type": "execute_result",
          "data": {
            "text/plain": [
              "'Hi'"
            ],
            "application/vnd.google.colaboratory.intrinsic+json": {
              "type": "string"
            }
          },
          "metadata": {},
          "execution_count": 11
        }
      ],
      "source": [
        "# get the first element of a list\n",
        "mixed_list[3]"
      ]
    },
    {
      "cell_type": "code",
      "execution_count": 12,
      "metadata": {
        "colab": {
          "base_uri": "https://localhost:8080/",
          "height": 35
        },
        "id": "9fafOWbHNZnK",
        "outputId": "741475d1-36e4-4891-b653-28f76a708ae5"
      },
      "outputs": [
        {
          "output_type": "execute_result",
          "data": {
            "text/plain": [
              "'Hi'"
            ],
            "application/vnd.google.colaboratory.intrinsic+json": {
              "type": "string"
            }
          },
          "metadata": {},
          "execution_count": 12
        }
      ],
      "source": [
        "mixed_list[-1]"
      ]
    },
    {
      "cell_type": "code",
      "execution_count": 9,
      "metadata": {
        "id": "2FTaYKWM4B2N",
        "outputId": "47b485fb-6322-489d-830c-38ccbc13257d",
        "colab": {
          "base_uri": "https://localhost:8080/",
          "height": 158
        }
      },
      "outputs": [
        {
          "output_type": "error",
          "ename": "NameError",
          "evalue": "name 'mixed_list' is not defined",
          "traceback": [
            "\u001b[0;31m---------------------------------------------------------------------------\u001b[0m",
            "\u001b[0;31mNameError\u001b[0m                                 Traceback (most recent call last)",
            "\u001b[0;32m<ipython-input-9-b665c1331760>\u001b[0m in \u001b[0;36m<cell line: 2>\u001b[0;34m()\u001b[0m\n\u001b[1;32m      1\u001b[0m \u001b[0;31m# change an element within a list\u001b[0m\u001b[0;34m\u001b[0m\u001b[0;34m\u001b[0m\u001b[0m\n\u001b[0;32m----> 2\u001b[0;31m \u001b[0mmixed_list\u001b[0m\u001b[0;34m[\u001b[0m\u001b[0;36m0\u001b[0m\u001b[0;34m]\u001b[0m \u001b[0;34m=\u001b[0m \u001b[0;36m10\u001b[0m\u001b[0;34m\u001b[0m\u001b[0;34m\u001b[0m\u001b[0m\n\u001b[0m",
            "\u001b[0;31mNameError\u001b[0m: name 'mixed_list' is not defined"
          ]
        }
      ],
      "source": [
        "# change an element within a list\n",
        "mixed_list[0] = 10"
      ]
    },
    {
      "cell_type": "code",
      "execution_count": 13,
      "metadata": {
        "id": "n7ETGSwsOo5m"
      },
      "outputs": [],
      "source": [
        "mixed_list[-1] = \"Hello\""
      ]
    },
    {
      "cell_type": "code",
      "execution_count": null,
      "metadata": {
        "colab": {
          "base_uri": "https://localhost:8080/"
        },
        "id": "dFtK-rYoOvLb",
        "outputId": "6cecb0bc-00fd-482e-fc95-a33587c2e07b"
      },
      "outputs": [
        {
          "data": {
            "text/plain": [
              "[10, 4.0, True, 'Hello']"
            ]
          },
          "execution_count": 44,
          "metadata": {},
          "output_type": "execute_result"
        }
      ],
      "source": [
        "mixed_list"
      ]
    },
    {
      "cell_type": "code",
      "execution_count": null,
      "metadata": {
        "colab": {
          "base_uri": "https://localhost:8080/"
        },
        "id": "R7VKnsr8PDg-",
        "outputId": "3a7a6e30-545c-4f5e-fc84-44aaad647a8b"
      },
      "outputs": [
        {
          "data": {
            "text/plain": [
              "[10, 4.0, True, 'Hello', 4, 6]"
            ]
          },
          "execution_count": 49,
          "metadata": {},
          "output_type": "execute_result"
        }
      ],
      "source": [
        "# add elements to a list\n",
        "mixed_list + [4,6]"
      ]
    },
    {
      "cell_type": "code",
      "execution_count": null,
      "metadata": {
        "colab": {
          "base_uri": "https://localhost:8080/"
        },
        "id": "d2-bVCWxPxyV",
        "outputId": "f11041e6-800b-4c08-fd91-a8daca78badd"
      },
      "outputs": [
        {
          "data": {
            "text/plain": [
              "[10, 4.0, True, 'Hello', 4, 6]"
            ]
          },
          "execution_count": 50,
          "metadata": {},
          "output_type": "execute_result"
        }
      ],
      "source": [
        "my_new_list = mixed_list + [4,6]\n",
        "my_new_list"
      ]
    },
    {
      "cell_type": "code",
      "execution_count": null,
      "metadata": {
        "id": "vPd5i_0GPi-r"
      },
      "outputs": [],
      "source": [
        "# list of lists\n",
        "my_list_of_lists = [[1,2,3], [\"a\", \"b\", \"c\"], [True, False]]"
      ]
    },
    {
      "cell_type": "code",
      "execution_count": null,
      "metadata": {
        "colab": {
          "base_uri": "https://localhost:8080/"
        },
        "id": "GmxWub6FQFW3",
        "outputId": "0caa8fb3-4c04-4c7e-d1e5-cb7f8b99ff01"
      },
      "outputs": [
        {
          "data": {
            "text/plain": [
              "[[1, 2, 3], ['a', 'b', 'c'], [True, False]]"
            ]
          },
          "execution_count": 54,
          "metadata": {},
          "output_type": "execute_result"
        }
      ],
      "source": [
        "my_list_of_lists"
      ]
    },
    {
      "cell_type": "markdown",
      "metadata": {
        "id": "KAA8Bjat3VxP"
      },
      "source": [
        "## Dictionaries\n",
        "\n",
        "- Represented by curly brackets ```{}```\n",
        "- Consists of a collection of key-value pairs. Each key-value pair maps the key to its associated value\n"
      ]
    },
    {
      "cell_type": "code",
      "execution_count": 14,
      "metadata": {
        "id": "ywtJBE1k5plK"
      },
      "outputs": [],
      "source": [
        "# empty dictionary\n",
        "my_dictionary = {}"
      ]
    },
    {
      "cell_type": "code",
      "execution_count": 15,
      "metadata": {
        "colab": {
          "base_uri": "https://localhost:8080/"
        },
        "id": "D73cF8mhRanl",
        "outputId": "8c507dae-d0d9-47fc-f511-ab996dd7eb1c"
      },
      "outputs": [
        {
          "output_type": "execute_result",
          "data": {
            "text/plain": [
              "{}"
            ]
          },
          "metadata": {},
          "execution_count": 15
        }
      ],
      "source": [
        "my_dictionary"
      ]
    },
    {
      "cell_type": "code",
      "execution_count": 16,
      "metadata": {
        "id": "F5t-IsHj3KGs"
      },
      "outputs": [],
      "source": [
        "# create a non-empty dictionary (groceries list)\n",
        "my_groceries = {\"bananas\": 10, \"apples\": 1, \"olive oil\": 1}"
      ]
    },
    {
      "cell_type": "code",
      "execution_count": null,
      "metadata": {
        "colab": {
          "base_uri": "https://localhost:8080/"
        },
        "id": "D4VILEeGUKrD",
        "outputId": "d00bb2d7-1dd7-4247-97f0-d1e781877de4"
      },
      "outputs": [
        {
          "data": {
            "text/plain": [
              "{'bananas': 10, 'apples': 1, 'olive oil': 1}"
            ]
          },
          "execution_count": 58,
          "metadata": {},
          "output_type": "execute_result"
        }
      ],
      "source": [
        "my_groceries"
      ]
    },
    {
      "cell_type": "code",
      "execution_count": null,
      "metadata": {
        "colab": {
          "base_uri": "https://localhost:8080/"
        },
        "id": "Se4ZdRvWUopB",
        "outputId": "40ea5723-7731-402c-f24e-006984d3fc9a"
      },
      "outputs": [
        {
          "data": {
            "text/plain": [
              "10"
            ]
          },
          "execution_count": 61,
          "metadata": {},
          "output_type": "execute_result"
        }
      ],
      "source": [
        "# access elements of dictionaries\n",
        "my_groceries[\"bananas\"]"
      ]
    },
    {
      "cell_type": "code",
      "execution_count": null,
      "metadata": {
        "colab": {
          "base_uri": "https://localhost:8080/"
        },
        "id": "MxZRaih8WF4m",
        "outputId": "1132beae-9b9e-42b1-8a57-1673fd3015e7"
      },
      "outputs": [
        {
          "data": {
            "text/plain": [
              "1"
            ]
          },
          "execution_count": 64,
          "metadata": {},
          "output_type": "execute_result"
        }
      ],
      "source": [
        "my_groceries[\"apples\"]"
      ]
    },
    {
      "cell_type": "code",
      "execution_count": 17,
      "metadata": {
        "id": "dNGtfanGXQKv"
      },
      "outputs": [],
      "source": [
        "# create a dictionary with integers as keys\n",
        "my_numbers = {0: \"zero\", 1: \"one\", 2: \"two\"}"
      ]
    },
    {
      "cell_type": "code",
      "execution_count": null,
      "metadata": {
        "colab": {
          "base_uri": "https://localhost:8080/"
        },
        "id": "J0KgpnzfYddK",
        "outputId": "8b01c139-b6e0-4fd9-b222-57f5a7bf8985"
      },
      "outputs": [
        {
          "data": {
            "text/plain": [
              "{0: 'zero', 1: 'one', 2: 'two'}"
            ]
          },
          "execution_count": 73,
          "metadata": {},
          "output_type": "execute_result"
        }
      ],
      "source": [
        "my_numbers"
      ]
    },
    {
      "cell_type": "code",
      "execution_count": 18,
      "metadata": {
        "colab": {
          "base_uri": "https://localhost:8080/",
          "height": 52
        },
        "id": "95GLEqigYg3q",
        "outputId": "08df064a-fe4d-42c6-c4d2-21ae06ac5af3"
      },
      "outputs": [
        {
          "output_type": "execute_result",
          "data": {
            "text/plain": [
              "'two'"
            ],
            "application/vnd.google.colaboratory.intrinsic+json": {
              "type": "string"
            }
          },
          "metadata": {},
          "execution_count": 18
        }
      ],
      "source": [
        "my_numbers[2]"
      ]
    },
    {
      "cell_type": "code",
      "execution_count": null,
      "metadata": {
        "id": "I_S9nJlFXbSx"
      },
      "outputs": [],
      "source": [
        "# add new key-value pairs to dictionary\n",
        "my_numbers[10] = \"ten\""
      ]
    },
    {
      "cell_type": "code",
      "execution_count": null,
      "metadata": {
        "colab": {
          "base_uri": "https://localhost:8080/"
        },
        "id": "xhXI3XrjZNyY",
        "outputId": "49606252-caea-412c-eea9-c7ccf917770e"
      },
      "outputs": [
        {
          "data": {
            "text/plain": [
              "{0: 'zero', 1: 'one', 2: 'two', 10: 'ten'}"
            ]
          },
          "execution_count": 76,
          "metadata": {},
          "output_type": "execute_result"
        }
      ],
      "source": [
        "my_numbers"
      ]
    },
    {
      "cell_type": "code",
      "execution_count": null,
      "metadata": {
        "colab": {
          "base_uri": "https://localhost:8080/"
        },
        "id": "GjzQegP6ZSTR",
        "outputId": "edf791b9-1fe5-489e-92a7-8a48d6fbe105"
      },
      "outputs": [
        {
          "data": {
            "text/plain": [
              "{0: 'zero', 1: 'one', 2: 'two', 10: 'ten', 20: 'twenty'}"
            ]
          },
          "execution_count": 77,
          "metadata": {},
          "output_type": "execute_result"
        }
      ],
      "source": [
        "my_numbers[20] = \"twenty\"\n",
        "my_numbers"
      ]
    },
    {
      "cell_type": "code",
      "execution_count": null,
      "metadata": {
        "colab": {
          "base_uri": "https://localhost:8080/"
        },
        "id": "fqIYdFMAaDSY",
        "outputId": "cd45c81c-a72a-46ae-cbc2-77c6e634fd2b"
      },
      "outputs": [
        {
          "data": {
            "text/plain": [
              "dict_keys([0, 1, 2, 10, 20])"
            ]
          },
          "execution_count": 81,
          "metadata": {},
          "output_type": "execute_result"
        }
      ],
      "source": [
        "# access all keys\n",
        "my_numbers.keys()"
      ]
    },
    {
      "cell_type": "code",
      "execution_count": null,
      "metadata": {
        "colab": {
          "base_uri": "https://localhost:8080/"
        },
        "id": "_w0PAvioaC9A",
        "outputId": "e03267c7-0295-4b25-d076-23993077526d"
      },
      "outputs": [
        {
          "data": {
            "text/plain": [
              "dict_values(['zero', 'one', 'two', 'ten', 'twenty'])"
            ]
          },
          "execution_count": 82,
          "metadata": {},
          "output_type": "execute_result"
        }
      ],
      "source": [
        "# access all values\n",
        "my_numbers.values()"
      ]
    },
    {
      "cell_type": "markdown",
      "metadata": {
        "id": "mF2YoLdf3KGt"
      },
      "source": [
        "## For loops and list comprehensions"
      ]
    },
    {
      "cell_type": "code",
      "execution_count": null,
      "metadata": {
        "colab": {
          "base_uri": "https://localhost:8080/"
        },
        "id": "DYyVNMKh_fbl",
        "outputId": "b5178234-7f2b-4bd3-87d0-8b79a4d8cfb3"
      },
      "outputs": [
        {
          "data": {
            "text/plain": [
              "[1, 2, 3, 4, 5]"
            ]
          },
          "execution_count": 4,
          "metadata": {},
          "output_type": "execute_result"
        }
      ],
      "source": [
        "# loop over elements of a list\n",
        "my_list = [1,2,3,4,5]\n",
        "my_list"
      ]
    },
    {
      "cell_type": "code",
      "execution_count": null,
      "metadata": {
        "colab": {
          "base_uri": "https://localhost:8080/"
        },
        "id": "addlScsRBVok",
        "outputId": "cbed4cf0-24fe-4e21-a410-d9c323392baf"
      },
      "outputs": [
        {
          "name": "stdout",
          "output_type": "stream",
          "text": [
            "1\n",
            "2\n",
            "3\n",
            "4\n",
            "5\n"
          ]
        }
      ],
      "source": [
        "for i in my_list:\n",
        "  print(i)"
      ]
    },
    {
      "cell_type": "code",
      "execution_count": null,
      "metadata": {
        "colab": {
          "base_uri": "https://localhost:8080/"
        },
        "id": "6Pd0QVRtCXOu",
        "outputId": "09cfdff1-9568-4f55-af4c-42bf3e37b319"
      },
      "outputs": [
        {
          "name": "stdout",
          "output_type": "stream",
          "text": [
            "1\n",
            "2\n",
            "3\n",
            "4\n",
            "5\n"
          ]
        }
      ],
      "source": [
        "for element in my_list:\n",
        "  print(element)"
      ]
    },
    {
      "cell_type": "code",
      "execution_count": null,
      "metadata": {
        "id": "FoUYTJBfCdYO"
      },
      "outputs": [],
      "source": [
        "my_sum = 0\n",
        "for k in my_list:\n",
        "  #my_sum += k\n",
        "  my_sum = my_sum + k"
      ]
    },
    {
      "cell_type": "code",
      "execution_count": null,
      "metadata": {
        "colab": {
          "base_uri": "https://localhost:8080/"
        },
        "id": "-Mz2B3WtCw0o",
        "outputId": "1485574c-a16b-48e0-c98f-1a37d634754b"
      },
      "outputs": [
        {
          "data": {
            "text/plain": [
              "15"
            ]
          },
          "execution_count": 11,
          "metadata": {},
          "output_type": "execute_result"
        }
      ],
      "source": [
        "my_sum"
      ]
    },
    {
      "cell_type": "code",
      "execution_count": null,
      "metadata": {
        "colab": {
          "base_uri": "https://localhost:8080/"
        },
        "id": "PoLmOHvE6dLF",
        "outputId": "5c6d6dad-8827-4cb2-b75a-ce72119f69cb"
      },
      "outputs": [
        {
          "name": "stdout",
          "output_type": "stream",
          "text": [
            "1\n",
            "2\n",
            "3\n",
            "4\n",
            "5\n"
          ]
        }
      ],
      "source": [
        "# loop over a range\n",
        "for i in range(1, 6):\n",
        "  print(i)"
      ]
    },
    {
      "cell_type": "code",
      "execution_count": null,
      "metadata": {
        "colab": {
          "base_uri": "https://localhost:8080/"
        },
        "id": "tCconc1R6Us5",
        "outputId": "562b1c45-e9ec-4280-e057-dc33a18332af"
      },
      "outputs": [
        {
          "name": "stdout",
          "output_type": "stream",
          "text": [
            "H\n",
            "e\n",
            "l\n",
            "l\n",
            "o\n",
            "!\n"
          ]
        }
      ],
      "source": [
        "# loop over a string\n",
        "my_string = \"Hello!\"\n",
        "for i in my_string:\n",
        "  print(i)"
      ]
    },
    {
      "cell_type": "code",
      "execution_count": null,
      "metadata": {
        "colab": {
          "base_uri": "https://localhost:8080/"
        },
        "id": "o9V_z7-rEG7f",
        "outputId": "df055ec2-1783-47cf-dc86-3f5282efd3bd"
      },
      "outputs": [
        {
          "name": "stdout",
          "output_type": "stream",
          "text": [
            "H\n",
            "e\n",
            "l\n",
            "l\n",
            "o\n",
            "!\n"
          ]
        }
      ],
      "source": [
        "for k in \"Hello!\":\n",
        "  print(k)"
      ]
    },
    {
      "cell_type": "code",
      "execution_count": null,
      "metadata": {
        "colab": {
          "base_uri": "https://localhost:8080/"
        },
        "id": "Bn8uxk6AaFR7",
        "outputId": "6ac6d230-6505-4729-f36f-5eff7b3c1a1b"
      },
      "outputs": [
        {
          "name": "stdout",
          "output_type": "stream",
          "text": [
            "H\n",
            "e\n",
            "l\n",
            "l\n",
            "o\n",
            "!\n"
          ]
        }
      ],
      "source": [
        "# for loop in one line\n",
        "for k in \"Hello!\": print(k)"
      ]
    },
    {
      "cell_type": "code",
      "execution_count": null,
      "metadata": {
        "colab": {
          "base_uri": "https://localhost:8080/"
        },
        "id": "o8f3_R_Q6b1C",
        "outputId": "187a96cf-5130-4e17-8ae7-0495cbe5deb2"
      },
      "outputs": [
        {
          "data": {
            "text/plain": [
              "[1, 2, 3, 4, 5]"
            ]
          },
          "execution_count": 16,
          "metadata": {},
          "output_type": "execute_result"
        }
      ],
      "source": [
        "# list comprehension\n",
        "my_list"
      ]
    },
    {
      "cell_type": "code",
      "execution_count": null,
      "metadata": {
        "colab": {
          "base_uri": "https://localhost:8080/"
        },
        "id": "DqV_81RsFDGV",
        "outputId": "c39e1708-d0a2-4447-f5ae-eba634503654"
      },
      "outputs": [
        {
          "data": {
            "text/plain": [
              "[3, 4, 5, 6, 7]"
            ]
          },
          "execution_count": 17,
          "metadata": {},
          "output_type": "execute_result"
        }
      ],
      "source": [
        "[i + 2 for i in my_list]"
      ]
    },
    {
      "cell_type": "markdown",
      "metadata": {
        "id": "BBpKY7ONyB_u"
      },
      "source": [
        "## Conditional statements\n",
        "\n",
        "- We can use the ```if``` statement in Python to check if a logical condition is true\n",
        "- Python supports basic logical operations such as:\n",
        "    - Equal: ``` == ```\n",
        "    - Not equal: ``` != ```\n",
        "    - Greater than: ``` > ```\n",
        "    - Smaller than: ``` < ```\n",
        "- After an ```if``` statement we can also use ```elif``` (i.e. else + if) and ```else``` to specify what happens when none of the logical conditions are true"
      ]
    },
    {
      "cell_type": "code",
      "execution_count": null,
      "metadata": {
        "colab": {
          "base_uri": "https://localhost:8080/"
        },
        "id": "YCuBmlbDyB_v",
        "outputId": "c9045cbb-563e-4501-ffbc-541365068ea3"
      },
      "outputs": [
        {
          "name": "stdout",
          "output_type": "stream",
          "text": [
            "Yeeees!\n"
          ]
        }
      ],
      "source": [
        "# basic if statement\n",
        "if 2 > 1:\n",
        "  print(\"Yeeees!\")"
      ]
    },
    {
      "cell_type": "code",
      "execution_count": null,
      "metadata": {
        "id": "zzXFQq6ULtdR"
      },
      "outputs": [],
      "source": [
        "if \"Hello\" == \"Helo\":\n",
        "  print(\"They are the same\")"
      ]
    },
    {
      "cell_type": "code",
      "execution_count": null,
      "metadata": {
        "colab": {
          "base_uri": "https://localhost:8080/"
        },
        "id": "8osTaACQL2Dj",
        "outputId": "9dbde805-1b0b-4641-8e97-43bd67f4b8b8"
      },
      "outputs": [
        {
          "name": "stdout",
          "output_type": "stream",
          "text": [
            "They are not the same\n"
          ]
        }
      ],
      "source": [
        "if \"Hello\" != \"Helo\":\n",
        "  print(\"They are not the same\")"
      ]
    },
    {
      "cell_type": "code",
      "execution_count": null,
      "metadata": {
        "colab": {
          "base_uri": "https://localhost:8080/"
        },
        "id": "0QGh7SJcMN-d",
        "outputId": "501a983c-7a12-45fd-f794-be60a97f5cd2"
      },
      "outputs": [
        {
          "name": "stdout",
          "output_type": "stream",
          "text": [
            "a is smaller than b\n"
          ]
        }
      ],
      "source": [
        "a = 10\n",
        "b = 20\n",
        "\n",
        "if a < b:\n",
        "  print(\"a is smaller than b\")"
      ]
    },
    {
      "cell_type": "code",
      "execution_count": null,
      "metadata": {
        "colab": {
          "base_uri": "https://localhost:8080/"
        },
        "id": "80KB5IPkyB_v",
        "outputId": "cc579cfc-1b6d-4f2f-a697-0207cb5735af"
      },
      "outputs": [
        {
          "name": "stdout",
          "output_type": "stream",
          "text": [
            "They are not equal\n"
          ]
        }
      ],
      "source": [
        "# if + else statement\n",
        "if a == b:\n",
        "  print(\"They are equal\")\n",
        "else:\n",
        "  print(\"They are not equal\")"
      ]
    },
    {
      "cell_type": "code",
      "execution_count": null,
      "metadata": {
        "colab": {
          "base_uri": "https://localhost:8080/"
        },
        "id": "aj7Q6tdCNgSw",
        "outputId": "4d25144c-dcaa-4e54-e3be-aff0cb08d3cd"
      },
      "outputs": [
        {
          "name": "stdout",
          "output_type": "stream",
          "text": [
            "a is not greater than b\n"
          ]
        }
      ],
      "source": [
        "if a > b:\n",
        "  print(\"a greater than b\")\n",
        "else:\n",
        "  print(\"a is not greater than b\")"
      ]
    },
    {
      "cell_type": "code",
      "execution_count": null,
      "metadata": {
        "colab": {
          "base_uri": "https://localhost:8080/"
        },
        "id": "wuw5H0C2yB_v",
        "outputId": "ec7cff28-172c-4204-cdbc-22bfb1de06f9"
      },
      "outputs": [
        {
          "name": "stdout",
          "output_type": "stream",
          "text": [
            "a not greater and not equal to b\n"
          ]
        }
      ],
      "source": [
        "# if + elif + else statement\n",
        "if a > b:\n",
        "  print(\"a greater than b\")\n",
        "elif a == b:\n",
        "  print(\"a equal to b\")\n",
        "else:\n",
        "  print(\"a not greater and not equal to b\")"
      ]
    },
    {
      "cell_type": "markdown",
      "metadata": {
        "id": "Fk9NXtxXyB_v"
      },
      "source": [
        "## Functions\n",
        "\n",
        "- A function is a re-usable block of code that performs one or multiple operations. Functions usually take inputs and return outputs.\n",
        "- Python has a set of basic pre-built functions. [Here](https://www.w3schools.com/python/python_ref_functions.asp) is a full list but some of the most used are:\n",
        "  - ```print( )```\n",
        "  - ```len( )```\n",
        "  - ```abs( )```, ```max( )```, ```min( )```\n",
        "  - ```range( )``` <br><br>\n",
        "\n",
        "- Additional functions can be brought to Python by importing packages\n",
        "- Functions can also be defined by the user using the ``` def my_function():``` syntax"
      ]
    },
    {
      "cell_type": "code",
      "execution_count": null,
      "metadata": {
        "colab": {
          "base_uri": "https://localhost:8080/"
        },
        "id": "KvNRE6gFyB_w",
        "outputId": "aaa7a910-53ea-40ad-9a30-877cdd8e2aa9"
      },
      "outputs": [
        {
          "name": "stdout",
          "output_type": "stream",
          "text": [
            "Something!\n"
          ]
        }
      ],
      "source": [
        "# example of pre-built functions\n",
        "print(\"Something!\")"
      ]
    },
    {
      "cell_type": "code",
      "execution_count": null,
      "metadata": {
        "colab": {
          "base_uri": "https://localhost:8080/"
        },
        "id": "ZH8yNx-ZXx0r",
        "outputId": "3a01b7b3-922f-47f4-a4ec-2c16ed775650"
      },
      "outputs": [
        {
          "data": {
            "text/plain": [
              "4"
            ]
          },
          "execution_count": 27,
          "metadata": {},
          "output_type": "execute_result"
        }
      ],
      "source": [
        "len([1,2,3,4])"
      ]
    },
    {
      "cell_type": "code",
      "execution_count": null,
      "metadata": {
        "colab": {
          "base_uri": "https://localhost:8080/"
        },
        "id": "leymkjY1X520",
        "outputId": "bbe8c36a-38ca-4739-9e04-dfb3ad9dda9d"
      },
      "outputs": [
        {
          "data": {
            "text/plain": [
              "10"
            ]
          },
          "execution_count": 28,
          "metadata": {},
          "output_type": "execute_result"
        }
      ],
      "source": [
        "len(\"Something!\")"
      ]
    },
    {
      "cell_type": "code",
      "execution_count": null,
      "metadata": {
        "colab": {
          "base_uri": "https://localhost:8080/",
          "height": 165
        },
        "id": "l0xT3n9hYhBb",
        "outputId": "395dc465-14fe-43bf-ed71-6313e1289ef6"
      },
      "outputs": [
        {
          "ename": "TypeError",
          "evalue": "ignored",
          "output_type": "error",
          "traceback": [
            "\u001b[0;31m---------------------------------------------------------------------------\u001b[0m",
            "\u001b[0;31mTypeError\u001b[0m                                 Traceback (most recent call last)",
            "\u001b[0;32m<ipython-input-32-adf3103c7c3e>\u001b[0m in \u001b[0;36m<cell line: 1>\u001b[0;34m()\u001b[0m\n\u001b[0;32m----> 1\u001b[0;31m \u001b[0mlen\u001b[0m\u001b[0;34m(\u001b[0m\u001b[0;34m)\u001b[0m\u001b[0;34m\u001b[0m\u001b[0;34m\u001b[0m\u001b[0m\n\u001b[0m",
            "\u001b[0;31mTypeError\u001b[0m: len() takes exactly one argument (0 given)"
          ]
        }
      ],
      "source": [
        "len()"
      ]
    },
    {
      "cell_type": "code",
      "execution_count": null,
      "metadata": {
        "colab": {
          "base_uri": "https://localhost:8080/"
        },
        "id": "HNqtV8asYljc",
        "outputId": "ee7d6b99-f23d-4c54-a327-cd1bdb85b615"
      },
      "outputs": [
        {
          "data": {
            "text/plain": [
              "10"
            ]
          },
          "execution_count": 33,
          "metadata": {},
          "output_type": "execute_result"
        }
      ],
      "source": [
        "abs(-10)"
      ]
    },
    {
      "cell_type": "code",
      "execution_count": null,
      "metadata": {
        "colab": {
          "base_uri": "https://localhost:8080/"
        },
        "id": "UrOOfwiMYpcC",
        "outputId": "c0cd355a-ad27-428c-96b9-61126e5502ae"
      },
      "outputs": [
        {
          "data": {
            "text/plain": [
              "300"
            ]
          },
          "execution_count": 34,
          "metadata": {},
          "output_type": "execute_result"
        }
      ],
      "source": [
        "max([10,200,5,300])"
      ]
    },
    {
      "cell_type": "code",
      "execution_count": null,
      "metadata": {
        "colab": {
          "base_uri": "https://localhost:8080/"
        },
        "id": "6Z4T7-l3yB_w",
        "outputId": "18008bd4-6410-48d1-936f-9d7bd6b3641b"
      },
      "outputs": [
        {
          "data": {
            "text/plain": [
              "{'bananas': 10, 'apples': 20}"
            ]
          },
          "execution_count": 35,
          "metadata": {},
          "output_type": "execute_result"
        }
      ],
      "source": [
        "# functions from objects\n",
        "my_dictionary = {\"bananas\": 10, \"apples\": 20}\n",
        "my_dictionary"
      ]
    },
    {
      "cell_type": "code",
      "execution_count": null,
      "metadata": {
        "colab": {
          "base_uri": "https://localhost:8080/"
        },
        "id": "AF2hwLhyZ9DI",
        "outputId": "b94f3410-51bf-44da-fe50-c956949c1c83"
      },
      "outputs": [
        {
          "data": {
            "text/plain": [
              "dict_keys(['bananas', 'apples'])"
            ]
          },
          "execution_count": 36,
          "metadata": {},
          "output_type": "execute_result"
        }
      ],
      "source": [
        "my_dictionary.keys()"
      ]
    },
    {
      "cell_type": "code",
      "execution_count": null,
      "metadata": {
        "colab": {
          "base_uri": "https://localhost:8080/"
        },
        "id": "6dUCgOILaJPn",
        "outputId": "85438291-590e-4e38-c579-98a8f3822962"
      },
      "outputs": [
        {
          "data": {
            "text/plain": [
              "dict_values([10, 20])"
            ]
          },
          "execution_count": 37,
          "metadata": {},
          "output_type": "execute_result"
        }
      ],
      "source": [
        "my_dictionary.values()"
      ]
    },
    {
      "cell_type": "code",
      "execution_count": null,
      "metadata": {
        "colab": {
          "base_uri": "https://localhost:8080/",
          "height": 36
        },
        "id": "dgMKSPiUaVPJ",
        "outputId": "b29774f2-c618-4493-c7bc-5c0c519541f0"
      },
      "outputs": [
        {
          "data": {
            "application/vnd.google.colaboratory.intrinsic+json": {
              "type": "string"
            },
            "text/plain": [
              "'HELLO!'"
            ]
          },
          "execution_count": 38,
          "metadata": {},
          "output_type": "execute_result"
        }
      ],
      "source": [
        "my_string = \"HELLO!\"\n",
        "my_string"
      ]
    },
    {
      "cell_type": "code",
      "execution_count": null,
      "metadata": {
        "colab": {
          "base_uri": "https://localhost:8080/",
          "height": 36
        },
        "id": "pSqKRJ_4aYJS",
        "outputId": "a3e887bd-a7fa-49ac-e53c-05e1ab3c75ef"
      },
      "outputs": [
        {
          "data": {
            "application/vnd.google.colaboratory.intrinsic+json": {
              "type": "string"
            },
            "text/plain": [
              "'hello!'"
            ]
          },
          "execution_count": 39,
          "metadata": {},
          "output_type": "execute_result"
        }
      ],
      "source": [
        "my_string.lower()"
      ]
    },
    {
      "cell_type": "code",
      "execution_count": null,
      "metadata": {
        "colab": {
          "base_uri": "https://localhost:8080/"
        },
        "id": "EysAuDzqaecT",
        "outputId": "cec5a4a4-b2be-461a-e9af-cebce97fc473"
      },
      "outputs": [
        {
          "data": {
            "text/plain": [
              "['Hello', 'world', '!']"
            ]
          },
          "execution_count": 40,
          "metadata": {},
          "output_type": "execute_result"
        }
      ],
      "source": [
        "my_string = \"Hello world !\"\n",
        "my_string.split()"
      ]
    },
    {
      "cell_type": "code",
      "execution_count": null,
      "metadata": {
        "id": "dlwmaEeKyB_w"
      },
      "outputs": [],
      "source": [
        "# define my own function\n",
        "def my_function(x):\n",
        "  result = x*2\n",
        "  return result"
      ]
    },
    {
      "cell_type": "code",
      "execution_count": null,
      "metadata": {
        "colab": {
          "base_uri": "https://localhost:8080/"
        },
        "id": "AnR-EbKKfm5L",
        "outputId": "225d1e6e-633b-4e72-c262-ba16e8183f92"
      },
      "outputs": [
        {
          "data": {
            "text/plain": [
              "20"
            ]
          },
          "execution_count": 42,
          "metadata": {},
          "output_type": "execute_result"
        }
      ],
      "source": [
        "my_function(10)"
      ]
    }
  ],
  "metadata": {
    "colab": {
      "provenance": []
    },
    "kernelspec": {
      "display_name": "Python 3",
      "name": "python3"
    },
    "language_info": {
      "codemirror_mode": {
        "name": "ipython",
        "version": 3
      },
      "file_extension": ".py",
      "mimetype": "text/x-python",
      "name": "python",
      "nbconvert_exporter": "python",
      "pygments_lexer": "ipython3",
      "version": "3.10.2"
    }
  },
  "nbformat": 4,
  "nbformat_minor": 0
}